{
 "cells": [
  {
   "cell_type": "markdown",
   "id": "8e1be16c-85b5-493c-bfaa-b0975030126d",
   "metadata": {},
   "source": [
    "Import necessary library"
   ]
  },
  {
   "cell_type": "code",
   "execution_count": 1,
   "id": "3e6c0757-316e-4ab8-91bc-1b0d7937093a",
   "metadata": {},
   "outputs": [],
   "source": [
    "import pandas as pd\n",
    "import numpy as np\n",
    "import matplotlib.pyplot as plt\n",
    "import seaborn as sns\n",
    "import warnings\n",
    "warnings.filterwarnings(\"ignore\")"
   ]
  },
  {
   "cell_type": "code",
   "execution_count": 2,
   "id": "fe464667-9313-439f-97be-fb5629aa8835",
   "metadata": {},
   "outputs": [],
   "source": [
    "from sklearn.datasets import make_regression\n",
    "X ,y =make_regression(n_samples=2000,random_state=1)"
   ]
  },
  {
   "cell_type": "code",
   "execution_count": 3,
   "id": "9248fff9-9d73-496d-b0a8-45591ee64903",
   "metadata": {},
   "outputs": [
    {
     "data": {
      "text/plain": [
       "array([[ 1.24656308, -0.00262717,  1.16177117, ..., -0.14381404,\n",
       "         1.04897789,  0.36642707],\n",
       "       [ 1.98789962, -0.74289827,  0.46392306, ..., -0.07953001,\n",
       "         0.88431814, -0.12744446],\n",
       "       [-1.18110317, -0.4599301 ,  1.07125243, ...,  0.41026575,\n",
       "         0.75133724,  0.39310924],\n",
       "       ...,\n",
       "       [ 0.10949255, -0.93311559,  1.06941626, ..., -0.15958241,\n",
       "        -1.09792226,  0.16945106],\n",
       "       [-0.59682953,  0.91196902,  0.32905821, ..., -0.49513463,\n",
       "         1.30232475, -0.67180649],\n",
       "       [ 0.88513231, -0.95744249,  1.24415716, ..., -0.03960346,\n",
       "        -0.44315668,  1.04897287]])"
      ]
     },
     "execution_count": 3,
     "metadata": {},
     "output_type": "execute_result"
    }
   ],
   "source": [
    "X"
   ]
  },
  {
   "cell_type": "code",
   "execution_count": 4,
   "id": "ce789985-0b9f-4398-a0dc-bd49cb76bcd4",
   "metadata": {},
   "outputs": [
    {
     "data": {
      "text/plain": [
       "array([-244.6379103 ,  338.19201455, -369.33489019, ...,   89.84615892,\n",
       "         40.23247176, -113.19250449])"
      ]
     },
     "execution_count": 4,
     "metadata": {},
     "output_type": "execute_result"
    }
   ],
   "source": [
    "y"
   ]
  },
  {
   "cell_type": "code",
   "execution_count": 5,
   "id": "d5d97c08-f387-444b-941f-e89d177d3042",
   "metadata": {},
   "outputs": [],
   "source": [
    "from sklearn.model_selection import train_test_split\n",
    "X_train ,X_test ,y_train ,y_test =train_test_split(X,y,test_size=0.3,random_state=12)"
   ]
  },
  {
   "cell_type": "code",
   "execution_count": 6,
   "id": "b5fa7ad7-bccd-49ab-b244-7ab2c0afb7ff",
   "metadata": {},
   "outputs": [
    {
     "data": {
      "text/plain": [
       "array([[-0.3102569 , -0.35427619,  0.39650492, ...,  1.26959618,\n",
       "        -0.30150675, -2.26888313],\n",
       "       [ 1.28044403,  1.73871889,  0.84672379, ..., -0.51392111,\n",
       "        -1.44702872, -1.61237671],\n",
       "       [ 0.58455701, -0.18854658,  0.10667214, ...,  0.3039744 ,\n",
       "        -0.61025316, -1.2003673 ],\n",
       "       ...,\n",
       "       [-0.87636515,  2.1606535 ,  0.69440495, ...,  0.68105216,\n",
       "         0.4741391 , -1.15527546],\n",
       "       [ 0.8521572 , -0.50782106, -0.47473822, ..., -2.60530035,\n",
       "         1.69787155, -0.57837416],\n",
       "       [-0.92166369,  1.42898437,  0.15152283, ...,  1.97076816,\n",
       "        -2.0457776 , -0.01832535]])"
      ]
     },
     "execution_count": 6,
     "metadata": {},
     "output_type": "execute_result"
    }
   ],
   "source": [
    "X_train"
   ]
  },
  {
   "cell_type": "code",
   "execution_count": 7,
   "id": "40a94d54-c6db-4752-a578-e52e14302701",
   "metadata": {},
   "outputs": [
    {
     "data": {
      "text/plain": [
       "array([[-2.47913336e+00, -1.32941774e+00,  7.55895123e-01, ...,\n",
       "         4.32523466e-01,  6.55392088e-01, -4.89171664e-01],\n",
       "       [ 1.21935522e+00,  9.17253872e-01, -6.24653153e-02, ...,\n",
       "         6.51603617e-01,  3.19617561e-02,  5.35192360e-01],\n",
       "       [ 1.59296974e+00,  1.29511140e-01,  3.47589377e-01, ...,\n",
       "         1.87142477e-01,  3.10548285e-02,  9.68582688e-01],\n",
       "       ...,\n",
       "       [-1.62038450e-01,  7.36388470e-01,  1.29887994e+00, ...,\n",
       "         1.34411245e+00,  9.42955805e-01,  6.33662061e-01],\n",
       "       [-1.37604633e-03,  7.85995759e-01,  8.75557342e-02, ...,\n",
       "         7.93833204e-01, -2.16655900e+00, -1.92740972e+00],\n",
       "       [ 1.92506088e+00,  1.44194971e+00,  1.00439787e+00, ...,\n",
       "         4.27048308e-01,  2.08982884e-01, -1.65906685e-01]])"
      ]
     },
     "execution_count": 7,
     "metadata": {},
     "output_type": "execute_result"
    }
   ],
   "source": [
    "X_test"
   ]
  },
  {
   "cell_type": "code",
   "execution_count": 8,
   "id": "414a18eb-e239-433b-bd74-3f54314bb9e7",
   "metadata": {},
   "outputs": [
    {
     "data": {
      "text/plain": [
       "array([ -22.1290602 , -226.7267504 ,  339.30098721, -250.20728021,\n",
       "        238.30173024,  108.6804042 ,   73.37829821,   26.8231191 ,\n",
       "        -97.24683224,  313.17744028,  -89.09907451,  -69.37138288,\n",
       "        123.70935971,   97.9940697 ,  -50.49253232,  126.47769919,\n",
       "        189.81565494,  -51.40178067, -133.87550502, -175.82217267,\n",
       "         49.98503842,  258.55140609,   69.04543483,   40.93138933,\n",
       "         26.08587494,  182.60616829,    6.597482  ,   60.43696854,\n",
       "         78.14234166, -248.50406189, -113.53846718,  136.12118034,\n",
       "         29.20165152,  457.98854723,   27.40361964,  -70.57610957,\n",
       "        153.89595423,   83.04926804,   -2.86097509, -143.70893026,\n",
       "        239.2676661 ,   44.35904471, -144.84358589,  145.13122947,\n",
       "        134.81992734,   80.6929683 ,  198.4587239 ,  -57.83149989,\n",
       "         32.08204372,  171.69235126,  394.81257709,  -81.5776387 ,\n",
       "        -11.53740756, -150.27714772,  -62.29441293,  248.12937775,\n",
       "       -150.30888948, -200.0285949 ,  101.01231641,  -58.61959355,\n",
       "       -239.47161198,  117.3329257 ,  131.8999718 ,  -97.94685537,\n",
       "       -339.6102164 ,  145.14849232,   71.11925883,  -67.68118897,\n",
       "         31.95763941,   49.68645872,  -87.51204526,  134.43651107,\n",
       "         47.94262428,  -38.39826832,  208.66488016,  160.74322439,\n",
       "         -5.91404276,  -19.72633319,  218.01213741,   43.55269531,\n",
       "          9.61681272,   52.60639541, -179.16546291,    8.73431929,\n",
       "        -40.39205976,  130.80396331,  109.69935456,  -87.78865764,\n",
       "       -201.90926341,  210.23207555,  -44.15740953,  223.29142909,\n",
       "         -8.53645958,  -59.19008916,  121.05979793,  -15.52602663,\n",
       "        -20.80375317, -185.71554674,  -24.46523056,  132.59763996,\n",
       "         74.5713983 , -208.42945542, -262.08840978,   28.24716252,\n",
       "        -35.8133314 ,  109.3588854 , -168.54973798,  -64.50324646,\n",
       "       -122.78505255, -101.70072378,  -20.5079038 , -102.52785257,\n",
       "         23.2610533 , -244.8608274 ,  109.78651995,  -36.2995437 ,\n",
       "       -190.83951253,  -56.62925996,   57.66484903,   16.52177234,\n",
       "        114.15066952,  124.66453706,  -69.40352055,  211.50625596,\n",
       "       -116.85087128,  -39.04590722, -155.57006791,  -10.19028347,\n",
       "         55.37408651,  187.11356684, -101.59648532,  124.87604273,\n",
       "        103.90968426,  422.42962437,   51.62779354,   28.72921934,\n",
       "        119.49023004,  -46.05294539,   -3.98613777,   12.49814259,\n",
       "        -48.94753166, -172.76765145,  206.64685144,   14.12088075,\n",
       "        -35.02706414, -147.75748996, -166.0366526 ,   83.73891773,\n",
       "       -122.81235284,  -68.86687797,  302.25878521,  -71.88372519,\n",
       "       -348.81824848, -209.65511764,   33.34403266, -104.43993934,\n",
       "         23.99593245,   28.05563654,   90.12943206,   20.98428838,\n",
       "         76.83231297, -228.99183857,  -58.52348008,   12.80897394,\n",
       "        383.92544923,  -94.37075343, -224.10849675,  172.17733902,\n",
       "        211.34812641,  114.9591708 ,  -59.11592457,   94.03196661,\n",
       "        -38.02893707, -168.04365248,  145.29766443,   54.61083493,\n",
       "       -127.83633225, -145.51900589,  -42.23545618,  101.84352199,\n",
       "        -68.38363172,   -9.20352311, -125.85029765, -317.22066919,\n",
       "        -42.83376088,  -77.9798878 ,  -56.81532071,  -62.89377092,\n",
       "        341.26248217, -129.29213641,    8.02165434, -169.22480817,\n",
       "        320.43359532,  -56.08863584,  269.56629944,  160.12561997,\n",
       "        -14.44033992, -155.19572579,  170.74386322,  -56.98115523,\n",
       "         46.60812738, -151.12614169,   50.7658856 ,  -71.39841155,\n",
       "        132.43706581,   65.94171158, -128.67846283, -108.75683011,\n",
       "        -32.25323068,   22.62103981,  193.38620512,   74.76461045,\n",
       "         17.50680343,  -50.81826116,   38.68543434,    6.64965946,\n",
       "       -107.014461  ,  -41.38615218,   25.12069939,  201.4461291 ,\n",
       "       -175.11143228,  -15.20439483, -217.40175533, -173.41913752,\n",
       "        -25.48300513,   47.17996075,   17.7497047 ,    7.18501508,\n",
       "       -410.75857388,  106.32526929, -311.48886642,   75.91903666,\n",
       "          1.98573472,  -23.14070793,   17.16919816, -216.83497047,\n",
       "        -90.02587342,    1.32644593,  195.54308438,  -63.99334415,\n",
       "       -136.42662042,  -27.59326885,   80.91549984,  154.88328703,\n",
       "        -41.57104131, -169.67446176,  190.43782947,  -93.23622999,\n",
       "         82.99464519,  -25.72111036,  142.8870738 ,  144.38453916,\n",
       "        190.87227833, -146.8613402 , -121.04060653, -151.79625995,\n",
       "        241.77848206,   28.84602841,   36.36990378,  102.9436559 ,\n",
       "        104.23024383,  228.55598538, -226.2287793 ,  176.46754003,\n",
       "       -234.94939841, -220.82037571,  -95.48104074,   93.2247842 ,\n",
       "       -343.49858953,  -11.82818407, -195.88967337,  168.57702226,\n",
       "       -206.74105526, -154.54173948,   63.93906456, -175.30568926,\n",
       "        -91.29725914,  -75.4596469 ,  -99.07121349,   40.6835635 ,\n",
       "         24.14091187,   20.01013376,   76.32454235,  106.35106258,\n",
       "        170.68733391,   44.96562911,   19.67258282,  125.04026946,\n",
       "        -93.2003954 ,  139.72964746,  229.78092723,  152.31791117,\n",
       "       -106.52158357, -197.63961407,  274.55708858,   73.03644814,\n",
       "         80.7944209 , -135.77478513,  178.42543904, -134.22277763,\n",
       "         -3.53286555, -184.99611316,   35.73364272,   -5.9346078 ,\n",
       "        -13.31884524,  -40.47257554,  149.3838191 , -357.88777575,\n",
       "         57.06368206,  354.73158064, -161.66108377, -217.19929789,\n",
       "        159.44540332,  206.84840105,  -46.88882677, -170.19384071,\n",
       "       -116.08304816,  -53.23624085,  118.43838691,  138.39725702,\n",
       "        -57.21747797, -128.70415594,  181.33665632,  135.38773699,\n",
       "        -49.03197621, -126.48319649,  -70.91753598,   73.28623319,\n",
       "        -82.91512848,  -83.15868857, -193.6881811 ,   82.76493818,\n",
       "        161.04090627,  299.99460587, -329.03703182, -109.00666559,\n",
       "         30.73601843,   59.65235239,  208.68395228,  185.82276039,\n",
       "       -125.39004652,  178.95172405,  151.02966243,   75.87716704,\n",
       "        202.9423701 ,   84.3101819 ,  144.45037919,  -20.43066341,\n",
       "         10.59036079,  268.64017331, -111.48324589,  107.67829211,\n",
       "       -118.97632799,  -52.49414838,  -85.81753273, -124.23757936,\n",
       "        -28.05615888,   80.71151105,  137.09329364, -128.34940336,\n",
       "         64.55011153, -183.57610162, -112.78532897,   16.29688794,\n",
       "         19.04488737,   21.71731126,  -76.49054027,   22.35560803,\n",
       "        196.79658256,   47.37304646, -289.08189372,    8.70186694,\n",
       "         32.13900262,  -38.31347468, -332.61971786,  -73.38634833,\n",
       "        110.73343483,   74.18569829,  -23.18677492,  235.52448329,\n",
       "        164.69609549,  326.9436303 ,  -29.7586384 , -169.55255419,\n",
       "        103.29397004,   65.46570816,   33.83283008,    9.11587543,\n",
       "       -123.24300718, -185.3608125 , -152.83716045,  -18.21136332,\n",
       "        315.24493409,   65.00932525, -189.89291534, -122.02256567,\n",
       "        168.14822888, -160.00047835,   15.16209657,  335.8750676 ,\n",
       "        -25.10703658,  125.66477099, -167.92124808, -352.62828821,\n",
       "         87.70618408,  170.31322482,  -32.64951816,  229.18423333,\n",
       "         44.55364213,  -22.32586485,  145.30522815,    2.03105045,\n",
       "       -237.76632603,  -40.40669277,  -14.87552606,   65.95616065,\n",
       "        -52.83190322,  -93.343635  ,   47.07225545, -246.23369198,\n",
       "       -210.90085516, -305.18182073,  108.06021061,  -63.12690345,\n",
       "        -22.54575067,  104.96202124,  152.14105533,  116.9992694 ,\n",
       "         90.36081769,  -63.41261691,   68.20242897,   56.18754593,\n",
       "        213.70790197,  -42.42651512,  164.19816651,  -86.74775756,\n",
       "        276.12388862, -204.06530136,   32.32711476,  210.43943443,\n",
       "        297.58637112,  156.30926763,   -1.95349391, -283.80537097,\n",
       "        153.91706525,   -4.83804853,  -31.70582061,  -99.86116524,\n",
       "        142.46463106, -107.32780012, -113.91463136,  -90.14321879,\n",
       "        -38.9354634 ,  -48.85421099,   -4.07494241, -210.29925196,\n",
       "         46.85407771,  216.66322238, -141.84629044, -321.67032787,\n",
       "         -9.05773452,   22.03336529, -159.61124699, -210.55181297,\n",
       "         87.09493422, -110.72083954,  178.48548451,  -85.72525496,\n",
       "         25.0199262 ,  191.6803284 ,  309.681199  ,   39.52140457,\n",
       "        -48.16678205,  -20.44209808,   51.63281336,  141.55458202,\n",
       "       -114.57695734,  -67.88848243,  -39.31277117,  156.44205942,\n",
       "        -12.92321269, -147.56262582,   41.33567727,  -50.88921544,\n",
       "        114.82808427,  133.13532548, -195.07610613,  -92.90119388,\n",
       "        -28.09276886, -257.50604158,  129.33648285,   60.54455789,\n",
       "        -60.04720348,  -46.45833668,  -64.86281648,   11.83872264,\n",
       "       -133.90617126,  -42.47093299,  209.33029686,   33.57542658,\n",
       "       -130.98981809, -152.62466517,  -31.64238442,  -98.89144965,\n",
       "        -18.30705283,  -46.2535633 , -130.00493301, -324.92831843,\n",
       "        -79.14784883, -226.05620586, -137.48812372,  202.26582793,\n",
       "        -75.00614601,   98.552694  ,  -38.37075682,  -78.91397381,\n",
       "          9.8784617 ,   12.6010878 ,  -16.09051102,   45.27645437,\n",
       "        -33.86052401,  -73.06157084,   91.90431118,  188.8582255 ,\n",
       "       -135.00867501,  -91.11445229,   10.31126592,    9.4604099 ,\n",
       "         88.7925405 ,  -12.65997592,  155.07602759,   -6.29183259,\n",
       "         67.54846044, -330.58707841,  121.71066906,  -17.72104419,\n",
       "        321.64822642,  -30.08917723,  126.62487416,  -59.02942604,\n",
       "        103.99587031,  213.48601423,  174.43955627,  -22.54659711,\n",
       "        -80.59588536, -244.66471898,    1.86319672,  -95.65839992,\n",
       "        -20.05887053, -108.50093903,   25.9021204 ,  286.43490847,\n",
       "        -55.68952666,   32.45137139, -126.76007135,  -24.64159438,\n",
       "        136.24318432,  -41.56296638,  -17.92985362, -320.43767772,\n",
       "         35.0322096 ,  320.07584542, -176.27169754,  120.77734958,\n",
       "        -86.84514296,  162.36350246, -187.31556792, -104.68830167,\n",
       "          0.67056426,  -69.61275546,    8.42592346, -130.82424725,\n",
       "        185.15910058,   24.00002066, -133.92614798,  -53.17209269,\n",
       "        -90.60165078,  412.02077558,  135.39580689,   82.51264747,\n",
       "       -119.38094346,   36.60993408, -183.33619693, -166.89430195,\n",
       "        285.89208396,   62.58672851,  -28.04254228, -331.66552479,\n",
       "        112.42112751,  -20.03050381,   -9.21870313,   -3.80859901,\n",
       "        233.11705426,  -79.52574729,   33.47118261,  347.20134931,\n",
       "         33.58305182,  -27.05117705,  193.40418576, -243.53251058])"
      ]
     },
     "execution_count": 8,
     "metadata": {},
     "output_type": "execute_result"
    }
   ],
   "source": [
    "from sklearn.ensemble import GradientBoostingRegressor\n",
    "classifier =GradientBoostingRegressor()\n",
    "classifier.fit(X_train ,y_train)\n",
    "y_pred =classifier.predict(X_test)\n",
    "y_pred"
   ]
  },
  {
   "cell_type": "code",
   "execution_count": 9,
   "id": "b75cb1d4-eec7-4963-9e95-ced1165e1a31",
   "metadata": {},
   "outputs": [
    {
     "name": "stdout",
     "output_type": "stream",
     "text": [
      "0.9148991376273925\n"
     ]
    }
   ],
   "source": [
    "from sklearn.metrics import r2_score\n",
    "print(r2_score(y_test ,y_pred))"
   ]
  },
  {
   "cell_type": "markdown",
   "id": "e97c8d8c-2f5c-45bf-b126-77f5c6d47a33",
   "metadata": {},
   "source": [
    "hyperparameter tunning"
   ]
  },
  {
   "cell_type": "code",
   "execution_count": 10,
   "id": "15b4b8f6-7ac9-4e4d-8b24-505c53f2c85a",
   "metadata": {},
   "outputs": [],
   "source": [
    "from sklearn.model_selection import GridSearchCV\n",
    "param_grid ={\"n_estimators\":[100,150],\n",
    "            \"learning_rate\":[0.001,0.1,1],\n",
    "            \"loss\":[\"squared_error\",\"absolute_error\"]}\n",
    "grad =GradientBoostingRegressor()"
   ]
  },
  {
   "cell_type": "code",
   "execution_count": 11,
   "id": "7af4edce-af6a-42c8-b418-a644760393da",
   "metadata": {},
   "outputs": [],
   "source": [
    "clf =GridSearchCV(estimator=grad ,param_grid=param_grid ,cv =5,verbose=3)"
   ]
  },
  {
   "cell_type": "code",
   "execution_count": 12,
   "id": "85287cd6-9519-47f6-b0d7-434b44289d0d",
   "metadata": {},
   "outputs": [
    {
     "name": "stdout",
     "output_type": "stream",
     "text": [
      "Fitting 5 folds for each of 12 candidates, totalling 60 fits\n",
      "[CV 1/5] END learning_rate=0.001, loss=squared_error, n_estimators=100;, score=0.078 total time=   4.8s\n",
      "[CV 2/5] END learning_rate=0.001, loss=squared_error, n_estimators=100;, score=0.075 total time=   4.7s\n",
      "[CV 3/5] END learning_rate=0.001, loss=squared_error, n_estimators=100;, score=0.075 total time=   4.7s\n",
      "[CV 4/5] END learning_rate=0.001, loss=squared_error, n_estimators=100;, score=0.063 total time=   4.7s\n",
      "[CV 5/5] END learning_rate=0.001, loss=squared_error, n_estimators=100;, score=0.073 total time=   4.7s\n",
      "[CV 1/5] END learning_rate=0.001, loss=squared_error, n_estimators=150;, score=0.112 total time=   7.2s\n",
      "[CV 2/5] END learning_rate=0.001, loss=squared_error, n_estimators=150;, score=0.107 total time=   7.3s\n",
      "[CV 3/5] END learning_rate=0.001, loss=squared_error, n_estimators=150;, score=0.111 total time=   7.2s\n",
      "[CV 4/5] END learning_rate=0.001, loss=squared_error, n_estimators=150;, score=0.095 total time=   7.2s\n",
      "[CV 5/5] END learning_rate=0.001, loss=squared_error, n_estimators=150;, score=0.106 total time=   7.3s\n",
      "[CV 1/5] END learning_rate=0.001, loss=absolute_error, n_estimators=100;, score=0.072 total time=   5.1s\n",
      "[CV 2/5] END learning_rate=0.001, loss=absolute_error, n_estimators=100;, score=0.065 total time=   5.0s\n",
      "[CV 3/5] END learning_rate=0.001, loss=absolute_error, n_estimators=100;, score=0.059 total time=   5.1s\n",
      "[CV 4/5] END learning_rate=0.001, loss=absolute_error, n_estimators=100;, score=0.055 total time=   5.1s\n",
      "[CV 5/5] END learning_rate=0.001, loss=absolute_error, n_estimators=100;, score=0.070 total time=   5.1s\n",
      "[CV 1/5] END learning_rate=0.001, loss=absolute_error, n_estimators=150;, score=0.104 total time=   7.6s\n",
      "[CV 2/5] END learning_rate=0.001, loss=absolute_error, n_estimators=150;, score=0.095 total time=   7.6s\n",
      "[CV 3/5] END learning_rate=0.001, loss=absolute_error, n_estimators=150;, score=0.090 total time=   7.6s\n",
      "[CV 4/5] END learning_rate=0.001, loss=absolute_error, n_estimators=150;, score=0.082 total time=   7.6s\n",
      "[CV 5/5] END learning_rate=0.001, loss=absolute_error, n_estimators=150;, score=0.102 total time=   7.5s\n",
      "[CV 1/5] END learning_rate=0.1, loss=squared_error, n_estimators=100;, score=0.908 total time=   4.8s\n",
      "[CV 2/5] END learning_rate=0.1, loss=squared_error, n_estimators=100;, score=0.909 total time=   4.8s\n",
      "[CV 3/5] END learning_rate=0.1, loss=squared_error, n_estimators=100;, score=0.922 total time=   4.8s\n",
      "[CV 4/5] END learning_rate=0.1, loss=squared_error, n_estimators=100;, score=0.904 total time=   4.8s\n",
      "[CV 5/5] END learning_rate=0.1, loss=squared_error, n_estimators=100;, score=0.920 total time=   4.8s\n",
      "[CV 1/5] END learning_rate=0.1, loss=squared_error, n_estimators=150;, score=0.929 total time=   7.4s\n",
      "[CV 2/5] END learning_rate=0.1, loss=squared_error, n_estimators=150;, score=0.932 total time=   7.4s\n",
      "[CV 3/5] END learning_rate=0.1, loss=squared_error, n_estimators=150;, score=0.941 total time=   7.4s\n",
      "[CV 4/5] END learning_rate=0.1, loss=squared_error, n_estimators=150;, score=0.927 total time=   7.4s\n",
      "[CV 5/5] END learning_rate=0.1, loss=squared_error, n_estimators=150;, score=0.939 total time=   7.4s\n",
      "[CV 1/5] END learning_rate=0.1, loss=absolute_error, n_estimators=100;, score=0.860 total time=   5.1s\n",
      "[CV 2/5] END learning_rate=0.1, loss=absolute_error, n_estimators=100;, score=0.853 total time=   5.1s\n",
      "[CV 3/5] END learning_rate=0.1, loss=absolute_error, n_estimators=100;, score=0.868 total time=   5.1s\n",
      "[CV 4/5] END learning_rate=0.1, loss=absolute_error, n_estimators=100;, score=0.830 total time=   5.1s\n",
      "[CV 5/5] END learning_rate=0.1, loss=absolute_error, n_estimators=100;, score=0.860 total time=   5.1s\n",
      "[CV 1/5] END learning_rate=0.1, loss=absolute_error, n_estimators=150;, score=0.888 total time=   7.7s\n",
      "[CV 2/5] END learning_rate=0.1, loss=absolute_error, n_estimators=150;, score=0.886 total time=   7.7s\n",
      "[CV 3/5] END learning_rate=0.1, loss=absolute_error, n_estimators=150;, score=0.909 total time=   7.7s\n",
      "[CV 4/5] END learning_rate=0.1, loss=absolute_error, n_estimators=150;, score=0.867 total time=   7.7s\n",
      "[CV 5/5] END learning_rate=0.1, loss=absolute_error, n_estimators=150;, score=0.895 total time=   7.6s\n",
      "[CV 1/5] END learning_rate=1, loss=squared_error, n_estimators=100;, score=0.621 total time=   4.9s\n",
      "[CV 2/5] END learning_rate=1, loss=squared_error, n_estimators=100;, score=0.695 total time=   5.0s\n",
      "[CV 3/5] END learning_rate=1, loss=squared_error, n_estimators=100;, score=0.722 total time=   4.9s\n",
      "[CV 4/5] END learning_rate=1, loss=squared_error, n_estimators=100;, score=0.636 total time=   4.9s\n",
      "[CV 5/5] END learning_rate=1, loss=squared_error, n_estimators=100;, score=0.515 total time=   4.9s\n",
      "[CV 1/5] END learning_rate=1, loss=squared_error, n_estimators=150;, score=0.617 total time=   7.4s\n",
      "[CV 2/5] END learning_rate=1, loss=squared_error, n_estimators=150;, score=0.691 total time=   7.3s\n",
      "[CV 3/5] END learning_rate=1, loss=squared_error, n_estimators=150;, score=0.724 total time=   7.4s\n",
      "[CV 4/5] END learning_rate=1, loss=squared_error, n_estimators=150;, score=0.623 total time=   7.3s\n",
      "[CV 5/5] END learning_rate=1, loss=squared_error, n_estimators=150;, score=0.523 total time=   7.3s\n",
      "[CV 1/5] END learning_rate=1, loss=absolute_error, n_estimators=100;, score=0.684 total time=   5.1s\n",
      "[CV 2/5] END learning_rate=1, loss=absolute_error, n_estimators=100;, score=0.714 total time=   5.1s\n",
      "[CV 3/5] END learning_rate=1, loss=absolute_error, n_estimators=100;, score=0.696 total time=   5.1s\n",
      "[CV 4/5] END learning_rate=1, loss=absolute_error, n_estimators=100;, score=0.612 total time=   5.1s\n",
      "[CV 5/5] END learning_rate=1, loss=absolute_error, n_estimators=100;, score=0.714 total time=   5.2s\n",
      "[CV 1/5] END learning_rate=1, loss=absolute_error, n_estimators=150;, score=0.656 total time=   7.7s\n",
      "[CV 2/5] END learning_rate=1, loss=absolute_error, n_estimators=150;, score=0.689 total time=   7.7s\n",
      "[CV 3/5] END learning_rate=1, loss=absolute_error, n_estimators=150;, score=0.698 total time=   7.7s\n",
      "[CV 4/5] END learning_rate=1, loss=absolute_error, n_estimators=150;, score=0.632 total time=   7.7s\n",
      "[CV 5/5] END learning_rate=1, loss=absolute_error, n_estimators=150;, score=0.726 total time=   7.7s\n"
     ]
    },
    {
     "data": {
      "text/html": [
       "<style>#sk-container-id-1 {color: black;background-color: white;}#sk-container-id-1 pre{padding: 0;}#sk-container-id-1 div.sk-toggleable {background-color: white;}#sk-container-id-1 label.sk-toggleable__label {cursor: pointer;display: block;width: 100%;margin-bottom: 0;padding: 0.3em;box-sizing: border-box;text-align: center;}#sk-container-id-1 label.sk-toggleable__label-arrow:before {content: \"▸\";float: left;margin-right: 0.25em;color: #696969;}#sk-container-id-1 label.sk-toggleable__label-arrow:hover:before {color: black;}#sk-container-id-1 div.sk-estimator:hover label.sk-toggleable__label-arrow:before {color: black;}#sk-container-id-1 div.sk-toggleable__content {max-height: 0;max-width: 0;overflow: hidden;text-align: left;background-color: #f0f8ff;}#sk-container-id-1 div.sk-toggleable__content pre {margin: 0.2em;color: black;border-radius: 0.25em;background-color: #f0f8ff;}#sk-container-id-1 input.sk-toggleable__control:checked~div.sk-toggleable__content {max-height: 200px;max-width: 100%;overflow: auto;}#sk-container-id-1 input.sk-toggleable__control:checked~label.sk-toggleable__label-arrow:before {content: \"▾\";}#sk-container-id-1 div.sk-estimator input.sk-toggleable__control:checked~label.sk-toggleable__label {background-color: #d4ebff;}#sk-container-id-1 div.sk-label input.sk-toggleable__control:checked~label.sk-toggleable__label {background-color: #d4ebff;}#sk-container-id-1 input.sk-hidden--visually {border: 0;clip: rect(1px 1px 1px 1px);clip: rect(1px, 1px, 1px, 1px);height: 1px;margin: -1px;overflow: hidden;padding: 0;position: absolute;width: 1px;}#sk-container-id-1 div.sk-estimator {font-family: monospace;background-color: #f0f8ff;border: 1px dotted black;border-radius: 0.25em;box-sizing: border-box;margin-bottom: 0.5em;}#sk-container-id-1 div.sk-estimator:hover {background-color: #d4ebff;}#sk-container-id-1 div.sk-parallel-item::after {content: \"\";width: 100%;border-bottom: 1px solid gray;flex-grow: 1;}#sk-container-id-1 div.sk-label:hover label.sk-toggleable__label {background-color: #d4ebff;}#sk-container-id-1 div.sk-serial::before {content: \"\";position: absolute;border-left: 1px solid gray;box-sizing: border-box;top: 0;bottom: 0;left: 50%;z-index: 0;}#sk-container-id-1 div.sk-serial {display: flex;flex-direction: column;align-items: center;background-color: white;padding-right: 0.2em;padding-left: 0.2em;position: relative;}#sk-container-id-1 div.sk-item {position: relative;z-index: 1;}#sk-container-id-1 div.sk-parallel {display: flex;align-items: stretch;justify-content: center;background-color: white;position: relative;}#sk-container-id-1 div.sk-item::before, #sk-container-id-1 div.sk-parallel-item::before {content: \"\";position: absolute;border-left: 1px solid gray;box-sizing: border-box;top: 0;bottom: 0;left: 50%;z-index: -1;}#sk-container-id-1 div.sk-parallel-item {display: flex;flex-direction: column;z-index: 1;position: relative;background-color: white;}#sk-container-id-1 div.sk-parallel-item:first-child::after {align-self: flex-end;width: 50%;}#sk-container-id-1 div.sk-parallel-item:last-child::after {align-self: flex-start;width: 50%;}#sk-container-id-1 div.sk-parallel-item:only-child::after {width: 0;}#sk-container-id-1 div.sk-dashed-wrapped {border: 1px dashed gray;margin: 0 0.4em 0.5em 0.4em;box-sizing: border-box;padding-bottom: 0.4em;background-color: white;}#sk-container-id-1 div.sk-label label {font-family: monospace;font-weight: bold;display: inline-block;line-height: 1.2em;}#sk-container-id-1 div.sk-label-container {text-align: center;}#sk-container-id-1 div.sk-container {/* jupyter's `normalize.less` sets `[hidden] { display: none; }` but bootstrap.min.css set `[hidden] { display: none !important; }` so we also need the `!important` here to be able to override the default hidden behavior on the sphinx rendered scikit-learn.org. See: https://github.com/scikit-learn/scikit-learn/issues/21755 */display: inline-block !important;position: relative;}#sk-container-id-1 div.sk-text-repr-fallback {display: none;}</style><div id=\"sk-container-id-1\" class=\"sk-top-container\"><div class=\"sk-text-repr-fallback\"><pre>GridSearchCV(cv=5, estimator=GradientBoostingRegressor(),\n",
       "             param_grid={&#x27;learning_rate&#x27;: [0.001, 0.1, 1],\n",
       "                         &#x27;loss&#x27;: [&#x27;squared_error&#x27;, &#x27;absolute_error&#x27;],\n",
       "                         &#x27;n_estimators&#x27;: [100, 150]},\n",
       "             verbose=3)</pre><b>In a Jupyter environment, please rerun this cell to show the HTML representation or trust the notebook. <br />On GitHub, the HTML representation is unable to render, please try loading this page with nbviewer.org.</b></div><div class=\"sk-container\" hidden><div class=\"sk-item sk-dashed-wrapped\"><div class=\"sk-label-container\"><div class=\"sk-label sk-toggleable\"><input class=\"sk-toggleable__control sk-hidden--visually\" id=\"sk-estimator-id-1\" type=\"checkbox\" ><label for=\"sk-estimator-id-1\" class=\"sk-toggleable__label sk-toggleable__label-arrow\">GridSearchCV</label><div class=\"sk-toggleable__content\"><pre>GridSearchCV(cv=5, estimator=GradientBoostingRegressor(),\n",
       "             param_grid={&#x27;learning_rate&#x27;: [0.001, 0.1, 1],\n",
       "                         &#x27;loss&#x27;: [&#x27;squared_error&#x27;, &#x27;absolute_error&#x27;],\n",
       "                         &#x27;n_estimators&#x27;: [100, 150]},\n",
       "             verbose=3)</pre></div></div></div><div class=\"sk-parallel\"><div class=\"sk-parallel-item\"><div class=\"sk-item\"><div class=\"sk-label-container\"><div class=\"sk-label sk-toggleable\"><input class=\"sk-toggleable__control sk-hidden--visually\" id=\"sk-estimator-id-2\" type=\"checkbox\" ><label for=\"sk-estimator-id-2\" class=\"sk-toggleable__label sk-toggleable__label-arrow\">estimator: GradientBoostingRegressor</label><div class=\"sk-toggleable__content\"><pre>GradientBoostingRegressor()</pre></div></div></div><div class=\"sk-serial\"><div class=\"sk-item\"><div class=\"sk-estimator sk-toggleable\"><input class=\"sk-toggleable__control sk-hidden--visually\" id=\"sk-estimator-id-3\" type=\"checkbox\" ><label for=\"sk-estimator-id-3\" class=\"sk-toggleable__label sk-toggleable__label-arrow\">GradientBoostingRegressor</label><div class=\"sk-toggleable__content\"><pre>GradientBoostingRegressor()</pre></div></div></div></div></div></div></div></div></div></div>"
      ],
      "text/plain": [
       "GridSearchCV(cv=5, estimator=GradientBoostingRegressor(),\n",
       "             param_grid={'learning_rate': [0.001, 0.1, 1],\n",
       "                         'loss': ['squared_error', 'absolute_error'],\n",
       "                         'n_estimators': [100, 150]},\n",
       "             verbose=3)"
      ]
     },
     "execution_count": 12,
     "metadata": {},
     "output_type": "execute_result"
    }
   ],
   "source": [
    "clf.fit(X_train ,y_train)"
   ]
  },
  {
   "cell_type": "code",
   "execution_count": 15,
   "id": "0ec58997-c1eb-4321-be03-8236736c9bd1",
   "metadata": {},
   "outputs": [
    {
     "data": {
      "text/html": [
       "<style>#sk-container-id-3 {color: black;background-color: white;}#sk-container-id-3 pre{padding: 0;}#sk-container-id-3 div.sk-toggleable {background-color: white;}#sk-container-id-3 label.sk-toggleable__label {cursor: pointer;display: block;width: 100%;margin-bottom: 0;padding: 0.3em;box-sizing: border-box;text-align: center;}#sk-container-id-3 label.sk-toggleable__label-arrow:before {content: \"▸\";float: left;margin-right: 0.25em;color: #696969;}#sk-container-id-3 label.sk-toggleable__label-arrow:hover:before {color: black;}#sk-container-id-3 div.sk-estimator:hover label.sk-toggleable__label-arrow:before {color: black;}#sk-container-id-3 div.sk-toggleable__content {max-height: 0;max-width: 0;overflow: hidden;text-align: left;background-color: #f0f8ff;}#sk-container-id-3 div.sk-toggleable__content pre {margin: 0.2em;color: black;border-radius: 0.25em;background-color: #f0f8ff;}#sk-container-id-3 input.sk-toggleable__control:checked~div.sk-toggleable__content {max-height: 200px;max-width: 100%;overflow: auto;}#sk-container-id-3 input.sk-toggleable__control:checked~label.sk-toggleable__label-arrow:before {content: \"▾\";}#sk-container-id-3 div.sk-estimator input.sk-toggleable__control:checked~label.sk-toggleable__label {background-color: #d4ebff;}#sk-container-id-3 div.sk-label input.sk-toggleable__control:checked~label.sk-toggleable__label {background-color: #d4ebff;}#sk-container-id-3 input.sk-hidden--visually {border: 0;clip: rect(1px 1px 1px 1px);clip: rect(1px, 1px, 1px, 1px);height: 1px;margin: -1px;overflow: hidden;padding: 0;position: absolute;width: 1px;}#sk-container-id-3 div.sk-estimator {font-family: monospace;background-color: #f0f8ff;border: 1px dotted black;border-radius: 0.25em;box-sizing: border-box;margin-bottom: 0.5em;}#sk-container-id-3 div.sk-estimator:hover {background-color: #d4ebff;}#sk-container-id-3 div.sk-parallel-item::after {content: \"\";width: 100%;border-bottom: 1px solid gray;flex-grow: 1;}#sk-container-id-3 div.sk-label:hover label.sk-toggleable__label {background-color: #d4ebff;}#sk-container-id-3 div.sk-serial::before {content: \"\";position: absolute;border-left: 1px solid gray;box-sizing: border-box;top: 0;bottom: 0;left: 50%;z-index: 0;}#sk-container-id-3 div.sk-serial {display: flex;flex-direction: column;align-items: center;background-color: white;padding-right: 0.2em;padding-left: 0.2em;position: relative;}#sk-container-id-3 div.sk-item {position: relative;z-index: 1;}#sk-container-id-3 div.sk-parallel {display: flex;align-items: stretch;justify-content: center;background-color: white;position: relative;}#sk-container-id-3 div.sk-item::before, #sk-container-id-3 div.sk-parallel-item::before {content: \"\";position: absolute;border-left: 1px solid gray;box-sizing: border-box;top: 0;bottom: 0;left: 50%;z-index: -1;}#sk-container-id-3 div.sk-parallel-item {display: flex;flex-direction: column;z-index: 1;position: relative;background-color: white;}#sk-container-id-3 div.sk-parallel-item:first-child::after {align-self: flex-end;width: 50%;}#sk-container-id-3 div.sk-parallel-item:last-child::after {align-self: flex-start;width: 50%;}#sk-container-id-3 div.sk-parallel-item:only-child::after {width: 0;}#sk-container-id-3 div.sk-dashed-wrapped {border: 1px dashed gray;margin: 0 0.4em 0.5em 0.4em;box-sizing: border-box;padding-bottom: 0.4em;background-color: white;}#sk-container-id-3 div.sk-label label {font-family: monospace;font-weight: bold;display: inline-block;line-height: 1.2em;}#sk-container-id-3 div.sk-label-container {text-align: center;}#sk-container-id-3 div.sk-container {/* jupyter's `normalize.less` sets `[hidden] { display: none; }` but bootstrap.min.css set `[hidden] { display: none !important; }` so we also need the `!important` here to be able to override the default hidden behavior on the sphinx rendered scikit-learn.org. See: https://github.com/scikit-learn/scikit-learn/issues/21755 */display: inline-block !important;position: relative;}#sk-container-id-3 div.sk-text-repr-fallback {display: none;}</style><div id=\"sk-container-id-3\" class=\"sk-top-container\"><div class=\"sk-text-repr-fallback\"><pre>GradientBoostingRegressor(n_estimators=150)</pre><b>In a Jupyter environment, please rerun this cell to show the HTML representation or trust the notebook. <br />On GitHub, the HTML representation is unable to render, please try loading this page with nbviewer.org.</b></div><div class=\"sk-container\" hidden><div class=\"sk-item\"><div class=\"sk-estimator sk-toggleable\"><input class=\"sk-toggleable__control sk-hidden--visually\" id=\"sk-estimator-id-5\" type=\"checkbox\" checked><label for=\"sk-estimator-id-5\" class=\"sk-toggleable__label sk-toggleable__label-arrow\">GradientBoostingRegressor</label><div class=\"sk-toggleable__content\"><pre>GradientBoostingRegressor(n_estimators=150)</pre></div></div></div></div></div>"
      ],
      "text/plain": [
       "GradientBoostingRegressor(n_estimators=150)"
      ]
     },
     "execution_count": 15,
     "metadata": {},
     "output_type": "execute_result"
    }
   ],
   "source": [
    "clf.best_estimator_"
   ]
  },
  {
   "cell_type": "code",
   "execution_count": 16,
   "id": "81e90a4b-8948-4669-bfcc-95912b788bd1",
   "metadata": {},
   "outputs": [
    {
     "data": {
      "text/plain": [
       "0.9335989605522264"
      ]
     },
     "execution_count": 16,
     "metadata": {},
     "output_type": "execute_result"
    }
   ],
   "source": [
    "clf.best_score_"
   ]
  },
  {
   "cell_type": "code",
   "execution_count": null,
   "id": "1e3a9b4a-3eb1-40f0-800d-9f72c18dc37b",
   "metadata": {},
   "outputs": [],
   "source": []
  },
  {
   "cell_type": "code",
   "execution_count": null,
   "id": "a21675a0-76c5-4a90-b902-6dd06cb64ccb",
   "metadata": {},
   "outputs": [],
   "source": []
  }
 ],
 "metadata": {
  "kernelspec": {
   "display_name": "Python 3 (ipykernel)",
   "language": "python",
   "name": "python3"
  },
  "language_info": {
   "codemirror_mode": {
    "name": "ipython",
    "version": 3
   },
   "file_extension": ".py",
   "mimetype": "text/x-python",
   "name": "python",
   "nbconvert_exporter": "python",
   "pygments_lexer": "ipython3",
   "version": "3.10.8"
  }
 },
 "nbformat": 4,
 "nbformat_minor": 5
}
